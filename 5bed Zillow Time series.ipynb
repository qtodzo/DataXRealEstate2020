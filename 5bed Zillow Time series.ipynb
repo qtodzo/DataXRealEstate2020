{
 "cells": [
  {
   "cell_type": "code",
   "execution_count": 103,
   "metadata": {},
   "outputs": [],
   "source": [
    "import matplotlib.pyplot as plt\n",
    "import matplotlib.pyplot as plt\n",
    "import pandas as pd\n",
    "import datetime as dt\n",
    "import urllib.request, json\n",
    "import os\n",
    "import numpy as np\n",
    "import tensorflow as tf # This code has been tested with TensorFlow 1.6\n",
    "from sklearn.preprocessing import MinMaxScaler\n",
    "from sklearn import preprocessing\n",
    "from pandas import datetime\n",
    "from statsmodels.graphics.tsaplots import plot_acf"
   ]
  },
  {
   "cell_type": "code",
   "execution_count": 104,
   "metadata": {},
   "outputs": [
    {
     "data": {
      "text/html": [
       "<div>\n",
       "<style scoped>\n",
       "    .dataframe tbody tr th:only-of-type {\n",
       "        vertical-align: middle;\n",
       "    }\n",
       "\n",
       "    .dataframe tbody tr th {\n",
       "        vertical-align: top;\n",
       "    }\n",
       "\n",
       "    .dataframe thead th {\n",
       "        text-align: right;\n",
       "    }\n",
       "</style>\n",
       "<table border=\"1\" class=\"dataframe\">\n",
       "  <thead>\n",
       "    <tr style=\"text-align: right;\">\n",
       "      <th></th>\n",
       "      <th>RegionID</th>\n",
       "      <th>RegionName</th>\n",
       "      <th>City</th>\n",
       "      <th>State</th>\n",
       "      <th>Metro</th>\n",
       "      <th>CountyName</th>\n",
       "      <th>SizeRank</th>\n",
       "      <th>1996-04</th>\n",
       "      <th>1996-05</th>\n",
       "      <th>1996-06</th>\n",
       "      <th>...</th>\n",
       "      <th>2019-05</th>\n",
       "      <th>2019-06</th>\n",
       "      <th>2019-07</th>\n",
       "      <th>2019-08</th>\n",
       "      <th>2019-09</th>\n",
       "      <th>2019-10</th>\n",
       "      <th>2019-11</th>\n",
       "      <th>2019-12</th>\n",
       "      <th>2020-01</th>\n",
       "      <th>2020-02</th>\n",
       "    </tr>\n",
       "  </thead>\n",
       "  <tbody>\n",
       "    <tr>\n",
       "      <th>0</th>\n",
       "      <td>268384</td>\n",
       "      <td>Outer Sunset</td>\n",
       "      <td>San Francisco</td>\n",
       "      <td>CA</td>\n",
       "      <td>San Francisco-Oakland-Hayward</td>\n",
       "      <td>San Francisco County</td>\n",
       "      <td>180</td>\n",
       "      <td>327437</td>\n",
       "      <td>326833</td>\n",
       "      <td>326428</td>\n",
       "      <td>...</td>\n",
       "      <td>1664812</td>\n",
       "      <td>1672311</td>\n",
       "      <td>1680390</td>\n",
       "      <td>1686108</td>\n",
       "      <td>1698464</td>\n",
       "      <td>1717293</td>\n",
       "      <td>1740056</td>\n",
       "      <td>1775783</td>\n",
       "      <td>1797970</td>\n",
       "      <td>1826847</td>\n",
       "    </tr>\n",
       "    <tr>\n",
       "      <th>1</th>\n",
       "      <td>274552</td>\n",
       "      <td>Mission</td>\n",
       "      <td>San Francisco</td>\n",
       "      <td>CA</td>\n",
       "      <td>San Francisco-Oakland-Hayward</td>\n",
       "      <td>San Francisco County</td>\n",
       "      <td>257</td>\n",
       "      <td>1076466</td>\n",
       "      <td>1074299</td>\n",
       "      <td>1076184</td>\n",
       "      <td>...</td>\n",
       "      <td>3169253</td>\n",
       "      <td>3168825</td>\n",
       "      <td>3165082</td>\n",
       "      <td>3137621</td>\n",
       "      <td>3144065</td>\n",
       "      <td>3150921</td>\n",
       "      <td>3174400</td>\n",
       "      <td>3196170</td>\n",
       "      <td>3248063</td>\n",
       "      <td>3318898</td>\n",
       "    </tr>\n",
       "    <tr>\n",
       "      <th>2</th>\n",
       "      <td>268383</td>\n",
       "      <td>Outer Richmond</td>\n",
       "      <td>San Francisco</td>\n",
       "      <td>CA</td>\n",
       "      <td>San Francisco-Oakland-Hayward</td>\n",
       "      <td>San Francisco County</td>\n",
       "      <td>386</td>\n",
       "      <td>498629</td>\n",
       "      <td>490907</td>\n",
       "      <td>485907</td>\n",
       "      <td>...</td>\n",
       "      <td>2384640</td>\n",
       "      <td>2386798</td>\n",
       "      <td>2390788</td>\n",
       "      <td>2371959</td>\n",
       "      <td>2373174</td>\n",
       "      <td>2390422</td>\n",
       "      <td>2412884</td>\n",
       "      <td>2433405</td>\n",
       "      <td>2423529</td>\n",
       "      <td>2420778</td>\n",
       "    </tr>\n",
       "    <tr>\n",
       "      <th>3</th>\n",
       "      <td>268219</td>\n",
       "      <td>Inner Richmond</td>\n",
       "      <td>San Francisco</td>\n",
       "      <td>CA</td>\n",
       "      <td>San Francisco-Oakland-Hayward</td>\n",
       "      <td>San Francisco County</td>\n",
       "      <td>460</td>\n",
       "      <td>622132</td>\n",
       "      <td>620969</td>\n",
       "      <td>618698</td>\n",
       "      <td>...</td>\n",
       "      <td>3142770</td>\n",
       "      <td>3166566</td>\n",
       "      <td>3165279</td>\n",
       "      <td>3159064</td>\n",
       "      <td>3165643</td>\n",
       "      <td>3185973</td>\n",
       "      <td>3195330</td>\n",
       "      <td>3219447</td>\n",
       "      <td>3223812</td>\n",
       "      <td>3229148</td>\n",
       "    </tr>\n",
       "    <tr>\n",
       "      <th>4</th>\n",
       "      <td>268396</td>\n",
       "      <td>Parkside</td>\n",
       "      <td>San Francisco</td>\n",
       "      <td>CA</td>\n",
       "      <td>San Francisco-Oakland-Hayward</td>\n",
       "      <td>San Francisco County</td>\n",
       "      <td>514</td>\n",
       "      <td>434797</td>\n",
       "      <td>435045</td>\n",
       "      <td>435507</td>\n",
       "      <td>...</td>\n",
       "      <td>1680948</td>\n",
       "      <td>1688684</td>\n",
       "      <td>1698388</td>\n",
       "      <td>1706044</td>\n",
       "      <td>1719534</td>\n",
       "      <td>1746760</td>\n",
       "      <td>1781381</td>\n",
       "      <td>1827800</td>\n",
       "      <td>1852037</td>\n",
       "      <td>1879630</td>\n",
       "    </tr>\n",
       "  </tbody>\n",
       "</table>\n",
       "<p>5 rows × 294 columns</p>\n",
       "</div>"
      ],
      "text/plain": [
       "   RegionID      RegionName           City State  \\\n",
       "0    268384    Outer Sunset  San Francisco    CA   \n",
       "1    274552         Mission  San Francisco    CA   \n",
       "2    268383  Outer Richmond  San Francisco    CA   \n",
       "3    268219  Inner Richmond  San Francisco    CA   \n",
       "4    268396        Parkside  San Francisco    CA   \n",
       "\n",
       "                           Metro            CountyName  SizeRank  1996-04  \\\n",
       "0  San Francisco-Oakland-Hayward  San Francisco County       180   327437   \n",
       "1  San Francisco-Oakland-Hayward  San Francisco County       257  1076466   \n",
       "2  San Francisco-Oakland-Hayward  San Francisco County       386   498629   \n",
       "3  San Francisco-Oakland-Hayward  San Francisco County       460   622132   \n",
       "4  San Francisco-Oakland-Hayward  San Francisco County       514   434797   \n",
       "\n",
       "   1996-05  1996-06  ...  2019-05  2019-06  2019-07  2019-08  2019-09  \\\n",
       "0   326833   326428  ...  1664812  1672311  1680390  1686108  1698464   \n",
       "1  1074299  1076184  ...  3169253  3168825  3165082  3137621  3144065   \n",
       "2   490907   485907  ...  2384640  2386798  2390788  2371959  2373174   \n",
       "3   620969   618698  ...  3142770  3166566  3165279  3159064  3165643   \n",
       "4   435045   435507  ...  1680948  1688684  1698388  1706044  1719534   \n",
       "\n",
       "   2019-10  2019-11  2019-12  2020-01  2020-02  \n",
       "0  1717293  1740056  1775783  1797970  1826847  \n",
       "1  3150921  3174400  3196170  3248063  3318898  \n",
       "2  2390422  2412884  2433405  2423529  2420778  \n",
       "3  3185973  3195330  3219447  3223812  3229148  \n",
       "4  1746760  1781381  1827800  1852037  1879630  \n",
       "\n",
       "[5 rows x 294 columns]"
      ]
     },
     "execution_count": 104,
     "metadata": {},
     "output_type": "execute_result"
    }
   ],
   "source": [
    "# load the data using pandas build in read csv function\n",
    "df = pd.read_csv('Neighborhood_Zhvi_5BedroomOrMore_Cleaned.csv')\n",
    "df.head()"
   ]
  },
  {
   "cell_type": "code",
   "execution_count": 105,
   "metadata": {},
   "outputs": [],
   "source": [
    "df.drop(['RegionID','City','State','Metro','CountyName','SizeRank'],axis=1,inplace=True)"
   ]
  },
  {
   "cell_type": "code",
   "execution_count": 106,
   "metadata": {},
   "outputs": [
    {
     "data": {
      "text/html": [
       "<div>\n",
       "<style scoped>\n",
       "    .dataframe tbody tr th:only-of-type {\n",
       "        vertical-align: middle;\n",
       "    }\n",
       "\n",
       "    .dataframe tbody tr th {\n",
       "        vertical-align: top;\n",
       "    }\n",
       "\n",
       "    .dataframe thead th {\n",
       "        text-align: right;\n",
       "    }\n",
       "</style>\n",
       "<table border=\"1\" class=\"dataframe\">\n",
       "  <thead>\n",
       "    <tr style=\"text-align: right;\">\n",
       "      <th></th>\n",
       "      <th>RegionName</th>\n",
       "      <th>1996-04</th>\n",
       "      <th>1996-05</th>\n",
       "      <th>1996-06</th>\n",
       "      <th>1996-07</th>\n",
       "      <th>1996-08</th>\n",
       "      <th>1996-09</th>\n",
       "      <th>1996-10</th>\n",
       "      <th>1996-11</th>\n",
       "      <th>1996-12</th>\n",
       "      <th>...</th>\n",
       "      <th>2019-05</th>\n",
       "      <th>2019-06</th>\n",
       "      <th>2019-07</th>\n",
       "      <th>2019-08</th>\n",
       "      <th>2019-09</th>\n",
       "      <th>2019-10</th>\n",
       "      <th>2019-11</th>\n",
       "      <th>2019-12</th>\n",
       "      <th>2020-01</th>\n",
       "      <th>2020-02</th>\n",
       "    </tr>\n",
       "  </thead>\n",
       "  <tbody>\n",
       "    <tr>\n",
       "      <th>0</th>\n",
       "      <td>Outer Sunset</td>\n",
       "      <td>327437</td>\n",
       "      <td>326833</td>\n",
       "      <td>326428</td>\n",
       "      <td>325710</td>\n",
       "      <td>325600</td>\n",
       "      <td>326159</td>\n",
       "      <td>328160</td>\n",
       "      <td>330719</td>\n",
       "      <td>333869</td>\n",
       "      <td>...</td>\n",
       "      <td>1664812</td>\n",
       "      <td>1672311</td>\n",
       "      <td>1680390</td>\n",
       "      <td>1686108</td>\n",
       "      <td>1698464</td>\n",
       "      <td>1717293</td>\n",
       "      <td>1740056</td>\n",
       "      <td>1775783</td>\n",
       "      <td>1797970</td>\n",
       "      <td>1826847</td>\n",
       "    </tr>\n",
       "    <tr>\n",
       "      <th>1</th>\n",
       "      <td>Mission</td>\n",
       "      <td>1076466</td>\n",
       "      <td>1074299</td>\n",
       "      <td>1076184</td>\n",
       "      <td>1074724</td>\n",
       "      <td>1075609</td>\n",
       "      <td>1071281</td>\n",
       "      <td>1067328</td>\n",
       "      <td>1056866</td>\n",
       "      <td>1051684</td>\n",
       "      <td>...</td>\n",
       "      <td>3169253</td>\n",
       "      <td>3168825</td>\n",
       "      <td>3165082</td>\n",
       "      <td>3137621</td>\n",
       "      <td>3144065</td>\n",
       "      <td>3150921</td>\n",
       "      <td>3174400</td>\n",
       "      <td>3196170</td>\n",
       "      <td>3248063</td>\n",
       "      <td>3318898</td>\n",
       "    </tr>\n",
       "    <tr>\n",
       "      <th>2</th>\n",
       "      <td>Outer Richmond</td>\n",
       "      <td>498629</td>\n",
       "      <td>490907</td>\n",
       "      <td>485907</td>\n",
       "      <td>485940</td>\n",
       "      <td>486901</td>\n",
       "      <td>485059</td>\n",
       "      <td>484641</td>\n",
       "      <td>487250</td>\n",
       "      <td>491824</td>\n",
       "      <td>...</td>\n",
       "      <td>2384640</td>\n",
       "      <td>2386798</td>\n",
       "      <td>2390788</td>\n",
       "      <td>2371959</td>\n",
       "      <td>2373174</td>\n",
       "      <td>2390422</td>\n",
       "      <td>2412884</td>\n",
       "      <td>2433405</td>\n",
       "      <td>2423529</td>\n",
       "      <td>2420778</td>\n",
       "    </tr>\n",
       "    <tr>\n",
       "      <th>3</th>\n",
       "      <td>Inner Richmond</td>\n",
       "      <td>622132</td>\n",
       "      <td>620969</td>\n",
       "      <td>618698</td>\n",
       "      <td>617341</td>\n",
       "      <td>614763</td>\n",
       "      <td>611129</td>\n",
       "      <td>607296</td>\n",
       "      <td>606666</td>\n",
       "      <td>606679</td>\n",
       "      <td>...</td>\n",
       "      <td>3142770</td>\n",
       "      <td>3166566</td>\n",
       "      <td>3165279</td>\n",
       "      <td>3159064</td>\n",
       "      <td>3165643</td>\n",
       "      <td>3185973</td>\n",
       "      <td>3195330</td>\n",
       "      <td>3219447</td>\n",
       "      <td>3223812</td>\n",
       "      <td>3229148</td>\n",
       "    </tr>\n",
       "    <tr>\n",
       "      <th>4</th>\n",
       "      <td>Parkside</td>\n",
       "      <td>434797</td>\n",
       "      <td>435045</td>\n",
       "      <td>435507</td>\n",
       "      <td>436330</td>\n",
       "      <td>436815</td>\n",
       "      <td>438178</td>\n",
       "      <td>440934</td>\n",
       "      <td>443670</td>\n",
       "      <td>447590</td>\n",
       "      <td>...</td>\n",
       "      <td>1680948</td>\n",
       "      <td>1688684</td>\n",
       "      <td>1698388</td>\n",
       "      <td>1706044</td>\n",
       "      <td>1719534</td>\n",
       "      <td>1746760</td>\n",
       "      <td>1781381</td>\n",
       "      <td>1827800</td>\n",
       "      <td>1852037</td>\n",
       "      <td>1879630</td>\n",
       "    </tr>\n",
       "  </tbody>\n",
       "</table>\n",
       "<p>5 rows × 288 columns</p>\n",
       "</div>"
      ],
      "text/plain": [
       "       RegionName  1996-04  1996-05  1996-06  1996-07  1996-08  1996-09  \\\n",
       "0    Outer Sunset   327437   326833   326428   325710   325600   326159   \n",
       "1         Mission  1076466  1074299  1076184  1074724  1075609  1071281   \n",
       "2  Outer Richmond   498629   490907   485907   485940   486901   485059   \n",
       "3  Inner Richmond   622132   620969   618698   617341   614763   611129   \n",
       "4        Parkside   434797   435045   435507   436330   436815   438178   \n",
       "\n",
       "   1996-10  1996-11  1996-12  ...  2019-05  2019-06  2019-07  2019-08  \\\n",
       "0   328160   330719   333869  ...  1664812  1672311  1680390  1686108   \n",
       "1  1067328  1056866  1051684  ...  3169253  3168825  3165082  3137621   \n",
       "2   484641   487250   491824  ...  2384640  2386798  2390788  2371959   \n",
       "3   607296   606666   606679  ...  3142770  3166566  3165279  3159064   \n",
       "4   440934   443670   447590  ...  1680948  1688684  1698388  1706044   \n",
       "\n",
       "   2019-09  2019-10  2019-11  2019-12  2020-01  2020-02  \n",
       "0  1698464  1717293  1740056  1775783  1797970  1826847  \n",
       "1  3144065  3150921  3174400  3196170  3248063  3318898  \n",
       "2  2373174  2390422  2412884  2433405  2423529  2420778  \n",
       "3  3165643  3185973  3195330  3219447  3223812  3229148  \n",
       "4  1719534  1746760  1781381  1827800  1852037  1879630  \n",
       "\n",
       "[5 rows x 288 columns]"
      ]
     },
     "execution_count": 106,
     "metadata": {},
     "output_type": "execute_result"
    }
   ],
   "source": [
    "df.head()"
   ]
  },
  {
   "cell_type": "code",
   "execution_count": 107,
   "metadata": {},
   "outputs": [],
   "source": [
    "regionName_dict = df['RegionName']\n",
    "time_series_index = df.columns[1:]\n",
    "date_index = []\n",
    "for t in time_series_index:\n",
    "    date_index.append(parser(t))"
   ]
  },
  {
   "cell_type": "code",
   "execution_count": 108,
   "metadata": {},
   "outputs": [
    {
     "data": {
      "text/plain": [
       "datetime.datetime"
      ]
     },
     "execution_count": 108,
     "metadata": {},
     "output_type": "execute_result"
    }
   ],
   "source": [
    "type(date_index[0])"
   ]
  },
  {
   "cell_type": "code",
   "execution_count": 109,
   "metadata": {},
   "outputs": [],
   "source": [
    "# convert our column to panda series\n",
    "OuterSunset_series = pd.DataFrame(df.iloc[0, 1:],index=date_index)"
   ]
  },
  {
   "cell_type": "code",
   "execution_count": 110,
   "metadata": {},
   "outputs": [
    {
     "data": {
      "text/plain": [
       "[<matplotlib.lines.Line2D at 0x7fd985ec4390>]"
      ]
     },
     "execution_count": 110,
     "metadata": {},
     "output_type": "execute_result"
    },
    {
     "data": {
      "image/png": "[encoded data removed]",
      "text/plain": [
       "<Figure size 432x288 with 1 Axes>"
      ]
     },
     "metadata": {
      "needs_background": "light"
     },
     "output_type": "display_data"
    }
   ],
   "source": [
    "# Plot to see if the data is stationary, meaning variance and mean in different periods remain constant\n",
    "plt.plot(OuterSunset_series)"
   ]
  },
  {
   "cell_type": "code",
   "execution_count": 111,
   "metadata": {},
   "outputs": [
    {
     "data": {
      "image/png": "[encoded data removed]",
      "text/plain": [
       "<Figure size 432x288 with 1 Axes>"
      ]
     },
     "execution_count": 111,
     "metadata": {},
     "output_type": "execute_result"
    },
    {
     "data": {
      "image/png": "[encoded data removed]",
      "text/plain": [
       "<Figure size 432x288 with 1 Axes>"
      ]
     },
     "metadata": {
      "needs_background": "light"
     },
     "output_type": "display_data"
    }
   ],
   "source": [
    "plot_acf(OuterSunset_series) ## not stationary"
   ]
  },
  {
   "cell_type": "markdown",
   "metadata": {},
   "source": [
    "## Converting series to stationary\n",
    "means mean, variance and covariance is constant over periods. "
   ]
  },
  {
   "cell_type": "code",
   "execution_count": 112,
   "metadata": {},
   "outputs": [],
   "source": [
    "# We see that the data above isn't stationary. So we will difference the data to make it stationary"
   ]
  },
  {
   "cell_type": "code",
   "execution_count": 113,
   "metadata": {},
   "outputs": [],
   "source": [
    "OuterSunset_diff = OuterSunset_series.diff(periods=1) # integrated of order 1\n",
    "OuterSunset_diff = OuterSunset_diff[1:]"
   ]
  },
  {
   "cell_type": "code",
   "execution_count": 114,
   "metadata": {},
   "outputs": [
    {
     "data": {
      "text/plain": [
       "<matplotlib.axes._subplots.AxesSubplot at 0x7fd985e3e050>"
      ]
     },
     "execution_count": 114,
     "metadata": {},
     "output_type": "execute_result"
    },
    {
     "data": {
      "image/png": "[encoded data removed]",
      "text/plain": [
       "<Figure size 432x288 with 1 Axes>"
      ]
     },
     "metadata": {
      "needs_background": "light"
     },
     "output_type": "display_data"
    }
   ],
   "source": [
    "OuterSunset_diff.plot() # after differenced data is stationary"
   ]
  },
  {
   "cell_type": "markdown",
   "metadata": {},
   "source": [
    "### Create a return series \n",
    "Construct a return series by subracting r_t from r_t-1 and divide it by r_t-1"
   ]
  },
  {
   "cell_type": "code",
   "execution_count": 139,
   "metadata": {},
   "outputs": [],
   "source": [
    "shift = OuterSunset_series.shift(1)[1:]\n",
    "original_series = OuterSunsent_series[1:]\n",
    "returns = (original_series - shift) / original_series"
   ]
  },
  {
   "cell_type": "code",
   "execution_count": 140,
   "metadata": {},
   "outputs": [
    {
     "data": {
      "text/html": [
       "<div>\n",
       "<style scoped>\n",
       "    .dataframe tbody tr th:only-of-type {\n",
       "        vertical-align: middle;\n",
       "    }\n",
       "\n",
       "    .dataframe tbody tr th {\n",
       "        vertical-align: top;\n",
       "    }\n",
       "\n",
       "    .dataframe thead th {\n",
       "        text-align: right;\n",
       "    }\n",
       "</style>\n",
       "<table border=\"1\" class=\"dataframe\">\n",
       "  <thead>\n",
       "    <tr style=\"text-align: right;\">\n",
       "      <th></th>\n",
       "      <th>0</th>\n",
       "    </tr>\n",
       "  </thead>\n",
       "  <tbody>\n",
       "    <tr>\n",
       "      <th>1996-05-01</th>\n",
       "      <td>-0.00184804</td>\n",
       "    </tr>\n",
       "    <tr>\n",
       "      <th>1996-06-01</th>\n",
       "      <td>-0.0012407</td>\n",
       "    </tr>\n",
       "    <tr>\n",
       "      <th>1996-07-01</th>\n",
       "      <td>-0.00220441</td>\n",
       "    </tr>\n",
       "    <tr>\n",
       "      <th>1996-08-01</th>\n",
       "      <td>-0.000337838</td>\n",
       "    </tr>\n",
       "    <tr>\n",
       "      <th>1996-09-01</th>\n",
       "      <td>0.00171389</td>\n",
       "    </tr>\n",
       "    <tr>\n",
       "      <th>...</th>\n",
       "      <td>...</td>\n",
       "    </tr>\n",
       "    <tr>\n",
       "      <th>2019-10-01</th>\n",
       "      <td>0.0109643</td>\n",
       "    </tr>\n",
       "    <tr>\n",
       "      <th>2019-11-01</th>\n",
       "      <td>0.0130818</td>\n",
       "    </tr>\n",
       "    <tr>\n",
       "      <th>2019-12-01</th>\n",
       "      <td>0.020119</td>\n",
       "    </tr>\n",
       "    <tr>\n",
       "      <th>2020-01-01</th>\n",
       "      <td>0.01234</td>\n",
       "    </tr>\n",
       "    <tr>\n",
       "      <th>2020-02-01</th>\n",
       "      <td>0.015807</td>\n",
       "    </tr>\n",
       "  </tbody>\n",
       "</table>\n",
       "<p>286 rows × 1 columns</p>\n",
       "</div>"
      ],
      "text/plain": [
       "                      0\n",
       "1996-05-01  -0.00184804\n",
       "1996-06-01   -0.0012407\n",
       "1996-07-01  -0.00220441\n",
       "1996-08-01 -0.000337838\n",
       "1996-09-01   0.00171389\n",
       "...                 ...\n",
       "2019-10-01    0.0109643\n",
       "2019-11-01    0.0130818\n",
       "2019-12-01     0.020119\n",
       "2020-01-01      0.01234\n",
       "2020-02-01     0.015807\n",
       "\n",
       "[286 rows x 1 columns]"
      ]
     },
     "execution_count": 140,
     "metadata": {},
     "output_type": "execute_result"
    }
   ],
   "source": [
    "returns "
   ]
  },
  {
   "cell_type": "code",
   "execution_count": 141,
   "metadata": {},
   "outputs": [],
   "source": [
    "X = returns.values\n",
    "X_len = X.size\n",
    "\n",
    "# split data into train and test\n",
    "train_size = int(X.size * 0.9)\n",
    "train = X[0:train_size]\n",
    "test = X[train_size:]"
   ]
  },
  {
   "cell_type": "markdown",
   "metadata": {},
   "source": [
    "## Autoregression model\n"
   ]
  },
  {
   "cell_type": "code",
   "execution_count": 118,
   "metadata": {},
   "outputs": [],
   "source": [
    "from statsmodels.tsa.ar_model import AR\n",
    "from sklearn.metrics import mean_squared_error\n",
    "\n",
    "#Autoregression model\n",
    "model_ar = AR(train)\n",
    "model_ar_fit = model_ar.fit()"
   ]
  },
  {
   "cell_type": "code",
   "execution_count": 119,
   "metadata": {},
   "outputs": [],
   "source": [
    "predictions = model_ar_fit.predict(start=train_size,end=X_len)"
   ]
  },
  {
   "cell_type": "code",
   "execution_count": 120,
   "metadata": {},
   "outputs": [
    {
     "data": {
      "text/plain": [
       "[<matplotlib.lines.Line2D at 0x7fd985daa2d0>]"
      ]
     },
     "execution_count": 120,
     "metadata": {},
     "output_type": "execute_result"
    },
    {
     "data": {
      "image/png": "[encoded data removed]",
      "text/plain": [
       "<Figure size 432x288 with 1 Axes>"
      ]
     },
     "metadata": {
      "needs_background": "light"
     },
     "output_type": "display_data"
    }
   ],
   "source": [
    "plt.plot(test)\n",
    "plt.plot(predictions,color='red')"
   ]
  },
  {
   "cell_type": "code",
   "execution_count": 121,
   "metadata": {},
   "outputs": [
    {
     "data": {
      "text/plain": [
       "<matplotlib.axes._subplots.AxesSubplot at 0x7fd985cc70d0>"
      ]
     },
     "execution_count": 121,
     "metadata": {},
     "output_type": "execute_result"
    },
    {
     "data": {
      "image/png": "[encoded data removed]",
      "text/plain": [
       "<Figure size 432x288 with 1 Axes>"
      ]
     },
     "metadata": {
      "needs_background": "light"
     },
     "output_type": "display_data"
    }
   ],
   "source": [
    "returns.plot()"
   ]
  },
  {
   "cell_type": "markdown",
   "metadata": {},
   "source": [
    "## ARIMA"
   ]
  },
  {
   "cell_type": "code",
   "execution_count": 142,
   "metadata": {},
   "outputs": [],
   "source": [
    "from statsmodels.tsa.arima_model import ARIMA"
   ]
  },
  {
   "cell_type": "code",
   "execution_count": 143,
   "metadata": {},
   "outputs": [
    {
     "name": "stdout",
     "output_type": "stream",
     "text": [
      "-2133.571088226952\n"
     ]
    }
   ],
   "source": [
    "# p,d,q p=periods taken for autoregressive model; d -> Integrated order, difference; q=periods in moving average model\n",
    "model_arima = ARIMA(train,order=(3,0,4))\n",
    "model_arima_fit = model_arima.fit()\n",
    "print(model_arima_fit.aic)"
   ]
  },
  {
   "cell_type": "code",
   "execution_count": 144,
   "metadata": {},
   "outputs": [
    {
     "data": {
      "text/plain": [
       "array([0.00929642, 0.00357479, 0.00357878, 0.00790532, 0.01157666,\n",
       "       0.01347676, 0.01378115, 0.01300631, 0.0116641 , 0.01015007,\n",
       "       0.00872479, 0.00753127, 0.00662396, 0.00599825, 0.00561565,\n",
       "       0.00542283, 0.00536464, 0.00539193, 0.00546527, 0.00555594,\n",
       "       0.00564507, 0.00572192, 0.00578183, 0.00582426, 0.00585115,\n",
       "       0.00586558, 0.00587095, 0.00587039, 0.00586645])"
      ]
     },
     "execution_count": 144,
     "metadata": {},
     "output_type": "execute_result"
    }
   ],
   "source": [
    "predictions1 = model_arima_fit.forecast(steps=29)[0]\n",
    "predictions1"
   ]
  },
  {
   "cell_type": "code",
   "execution_count": 145,
   "metadata": {},
   "outputs": [
    {
     "data": {
      "text/plain": [
       "[<matplotlib.lines.Line2D at 0x7fd985b96d90>]"
      ]
     },
     "execution_count": 145,
     "metadata": {},
     "output_type": "execute_result"
    },
    {
     "data": {
      "image/png": "[encoded data removed]",
      "text/plain": [
       "<Figure size 432x288 with 1 Axes>"
      ]
     },
     "metadata": {
      "needs_background": "light"
     },
     "output_type": "display_data"
    }
   ],
   "source": [
    "plt.plot(test)\n",
    "plt.plot(predictions1,color='red')"
   ]
  },
  {
   "cell_type": "code",
   "execution_count": 155,
   "metadata": {},
   "outputs": [
    {
     "data": {
      "text/plain": [
       "[(0, 0, 0),\n",
       " (0, 0, 1),\n",
       " (0, 0, 2),\n",
       " (0, 0, 3),\n",
       " (0, 0, 4),\n",
       " (0, 1, 0),\n",
       " (0, 1, 1),\n",
       " (0, 1, 2),\n",
       " (0, 1, 3),\n",
       " (0, 1, 4),\n",
       " (0, 2, 0),\n",
       " (0, 2, 1),\n",
       " (0, 2, 2),\n",
       " (0, 2, 3),\n",
       " (0, 2, 4),\n",
       " (1, 0, 0),\n",
       " (1, 0, 1),\n",
       " (1, 0, 2),\n",
       " (1, 0, 3),\n",
       " (1, 0, 4),\n",
       " (1, 1, 0),\n",
       " (1, 1, 1),\n",
       " (1, 1, 2),\n",
       " (1, 1, 3),\n",
       " (1, 1, 4),\n",
       " (1, 2, 0),\n",
       " (1, 2, 1),\n",
       " (1, 2, 2),\n",
       " (1, 2, 3),\n",
       " (1, 2, 4),\n",
       " (2, 0, 0),\n",
       " (2, 0, 1),\n",
       " (2, 0, 2),\n",
       " (2, 0, 3),\n",
       " (2, 0, 4),\n",
       " (2, 1, 0),\n",
       " (2, 1, 1),\n",
       " (2, 1, 2),\n",
       " (2, 1, 3),\n",
       " (2, 1, 4),\n",
       " (2, 2, 0),\n",
       " (2, 2, 1),\n",
       " (2, 2, 2),\n",
       " (2, 2, 3),\n",
       " (2, 2, 4),\n",
       " (3, 0, 0),\n",
       " (3, 0, 1),\n",
       " (3, 0, 2),\n",
       " (3, 0, 3),\n",
       " (3, 0, 4),\n",
       " (3, 1, 0),\n",
       " (3, 1, 1),\n",
       " (3, 1, 2),\n",
       " (3, 1, 3),\n",
       " (3, 1, 4),\n",
       " (3, 2, 0),\n",
       " (3, 2, 1),\n",
       " (3, 2, 2),\n",
       " (3, 2, 3),\n",
       " (3, 2, 4),\n",
       " (4, 0, 0),\n",
       " (4, 0, 1),\n",
       " (4, 0, 2),\n",
       " (4, 0, 3),\n",
       " (4, 0, 4),\n",
       " (4, 1, 0),\n",
       " (4, 1, 1),\n",
       " (4, 1, 2),\n",
       " (4, 1, 3),\n",
       " (4, 1, 4),\n",
       " (4, 2, 0),\n",
       " (4, 2, 1),\n",
       " (4, 2, 2),\n",
       " (4, 2, 3),\n",
       " (4, 2, 4)]"
      ]
     },
     "execution_count": 155,
     "metadata": {},
     "output_type": "execute_result"
    }
   ],
   "source": [
    "import itertools\n",
    "import warnings\n",
    "warnings.filterwarnings('ignore')\n",
    "p=q=range(0,5)\n",
    "d=range(0,3)\n",
    "pdq = list(itertools.product(p,d,q))\n",
    "pdq"
   ]
  },
  {
   "cell_type": "code",
   "execution_count": 147,
   "metadata": {},
   "outputs": [
    {
     "name": "stdout",
     "output_type": "stream",
     "text": [
      "(0, 0, 0) -1653.0971097516401\n",
      "(0, 0, 1) -1849.6152540709736\n",
      "(0, 0, 2) -2047.446840166279\n",
      "(0, 0, 3) -2070.708584155982\n",
      "(0, 0, 4) -2069.376071832959\n",
      "(0, 1, 0) -2024.5009094518573\n",
      "(0, 1, 1) -2024.1284488452281\n",
      "(0, 1, 2) -2022.9459242512964\n",
      "(0, 1, 3) -2098.364096843665\n",
      "(0, 1, 4) -2097.333549396315\n",
      "(0, 2, 0) -1859.1195483007727\n",
      "(0, 2, 1) -2008.0427632293622\n",
      "(0, 2, 2) -2007.8270767911995\n",
      "(0, 2, 3) -2004.2728939093022\n",
      "(0, 2, 4) -2071.6474101551416\n",
      "(1, 0, 0) -2043.897620262987\n",
      "(1, 0, 1) -2046.587633583912\n",
      "(1, 0, 2) -2076.3971760722575\n",
      "(1, 0, 3) -2110.2624825764383\n",
      "(1, 0, 4) -2110.151271734367\n",
      "(1, 1, 0) -2023.8915378266554\n",
      "(1, 1, 1) -2022.1693665842947\n",
      "(1, 1, 2) -2034.2463079316346\n",
      "(1, 1, 3) -2096.844321959825\n",
      "(1, 1, 4) -2097.928027259406\n",
      "(1, 2, 0) -1902.574944075836\n",
      "(1, 2, 1) -2007.58533741581\n",
      "(1, 2, 2) -2009.973131209923\n",
      "(1, 2, 4) -2078.6629652689517\n",
      "(2, 0, 0) -2046.7797856136895\n",
      "(2, 0, 1) -2044.8512796802693\n",
      "(2, 0, 2) -2081.574126822285\n",
      "(2, 0, 3) -2109.1295756567183\n",
      "(2, 0, 4) -2126.120819651227\n",
      "(2, 1, 0) -2024.7944941983362\n",
      "(2, 1, 1) -2034.70318374481\n",
      "(2, 1, 2) -2050.0259665671138\n",
      "(2, 1, 3) -2106.873640984448\n",
      "(2, 1, 4) -2105.749669155034\n",
      "(2, 2, 0) -1905.5491060903596\n",
      "(2, 2, 1) -2008.1994535250037\n",
      "(2, 2, 2) -2006.593177639364\n",
      "(2, 2, 4) -2080.929407364313\n",
      "(3, 0, 0) -2045.1798528075838\n",
      "(3, 0, 1) -2047.8666297504988\n",
      "(3, 0, 2) -2115.6522658204435\n",
      "(3, 0, 3) -2121.0845066377437\n",
      "(3, 0, 4) -2133.571088226952\n",
      "(3, 1, 0) -2056.6099516100585\n",
      "(3, 1, 1) -2056.4846570797135\n",
      "(3, 1, 2) -2098.147173105008\n",
      "(3, 1, 3) -2105.5050074116434\n",
      "(3, 1, 4) -2109.0965556766932\n",
      "(3, 2, 0) -1971.7245888016805\n",
      "(3, 2, 1) -2038.4997521965324\n",
      "(3, 2, 2) -2038.1551278090665\n",
      "(3, 2, 3) -2078.102818762746\n",
      "(3, 2, 4) -2079.6567585303774\n",
      "(4, 0, 0) -2069.1635309968474\n",
      "(4, 0, 1) -2069.9844834904175\n",
      "(4, 0, 2) -2118.235406786959\n",
      "(4, 0, 3) -2119.221298700205\n",
      "(4, 0, 4) -2131.5711555163434\n",
      "(4, 1, 0) -2056.8985401693544\n",
      "(4, 1, 1) -2054.900443692194\n",
      "(4, 1, 2) -2103.1016401274974\n",
      "(4, 1, 3) -2105.9856911791376\n",
      "(4, 1, 4) -2123.4668760278955\n",
      "(4, 2, 0) -1988.732688121905\n",
      "(4, 2, 1) -2039.025579540912\n",
      "(4, 2, 2) -2030.9875849214468\n",
      "(4, 2, 3) -2078.2710159838657\n",
      "(4, 2, 4) -2081.489304377686\n"
     ]
    }
   ],
   "source": [
    "scores = []\n",
    "for param in pdq:\n",
    "    try:\n",
    "        model_arima = ARIMA(train,order=param)\n",
    "        model_arima_fit = model_arima.fit()\n",
    "        scores.append(model_arima_fit.aic)\n",
    "        print(param,model_arima_fit.aic)\n",
    "    except:\n",
    "        continue"
   ]
  },
  {
   "cell_type": "code",
   "execution_count": 128,
   "metadata": {},
   "outputs": [
    {
     "data": {
      "text/plain": [
       "-2133.571088226952"
      ]
     },
     "execution_count": 128,
     "metadata": {},
     "output_type": "execute_result"
    }
   ],
   "source": [
    "min(scores)"
   ]
  },
  {
   "cell_type": "markdown",
   "metadata": {},
   "source": [
    "## Iterate through the rows to construct time series models for all neighborhoods"
   ]
  },
  {
   "cell_type": "code",
   "execution_count": 129,
   "metadata": {},
   "outputs": [],
   "source": [
    "shift = OuterSunset_series.shift(1)[1:]\n",
    "original_series = OuterSunsent_series[1:]\n",
    "returns = (original_series - shift) / original_series\n",
    "\n",
    "X = returns.values\n",
    "X_len = X.size\n",
    "\n",
    "# split data into train and test\n",
    "train_size = int(X.size * 0.9)\n",
    "train = X[0:train_size]\n",
    "test = X[train_size:]"
   ]
  },
  {
   "cell_type": "code",
   "execution_count": 130,
   "metadata": {},
   "outputs": [
    {
     "ename": "IndexError",
     "evalue": "single positional indexer is out-of-bounds",
     "output_type": "error",
     "traceback": [
      "\u001b[0;31m---------------------------------------------------------------------------\u001b[0m",
      "\u001b[0;31mIndexError\u001b[0m                                Traceback (most recent call last)",
      "\u001b[0;32m<ipython-input-130-82a91cde3cd8>\u001b[0m in \u001b[0;36m<module>\u001b[0;34m\u001b[0m\n\u001b[1;32m      1\u001b[0m \u001b[0moriginal_series\u001b[0m \u001b[0;34m=\u001b[0m \u001b[0mdf\u001b[0m\u001b[0;34m[\u001b[0m\u001b[0mdf\u001b[0m\u001b[0;34m[\u001b[0m\u001b[0;34m'RegionName'\u001b[0m\u001b[0;34m]\u001b[0m \u001b[0;34m==\u001b[0m \u001b[0;34m'Outer Sunset'\u001b[0m\u001b[0;34m]\u001b[0m\u001b[0;34m\u001b[0m\u001b[0;34m\u001b[0m\u001b[0m\n\u001b[1;32m      2\u001b[0m \u001b[0mnum_rows\u001b[0m \u001b[0;34m=\u001b[0m \u001b[0mlen\u001b[0m\u001b[0;34m(\u001b[0m\u001b[0mdf\u001b[0m\u001b[0;34m.\u001b[0m\u001b[0miloc\u001b[0m\u001b[0;34m[\u001b[0m\u001b[0;34m:\u001b[0m\u001b[0;34m,\u001b[0m\u001b[0;36m1\u001b[0m\u001b[0;34m]\u001b[0m\u001b[0;34m)\u001b[0m\u001b[0;34m\u001b[0m\u001b[0;34m\u001b[0m\u001b[0m\n\u001b[0;32m----> 3\u001b[0;31m \u001b[0mname\u001b[0m \u001b[0;34m=\u001b[0m \u001b[0mdf\u001b[0m\u001b[0;34m.\u001b[0m\u001b[0miloc\u001b[0m\u001b[0;34m[\u001b[0m\u001b[0mrow\u001b[0m\u001b[0;34m,\u001b[0m\u001b[0;36m0\u001b[0m\u001b[0;34m]\u001b[0m\u001b[0;34m\u001b[0m\u001b[0;34m\u001b[0m\u001b[0m\n\u001b[0m\u001b[1;32m      4\u001b[0m \u001b[0moriginal_series\u001b[0m \u001b[0;34m=\u001b[0m \u001b[0mpd\u001b[0m\u001b[0;34m.\u001b[0m\u001b[0mDataFrame\u001b[0m\u001b[0;34m(\u001b[0m\u001b[0mdf\u001b[0m\u001b[0;34m.\u001b[0m\u001b[0miloc\u001b[0m\u001b[0;34m[\u001b[0m\u001b[0mrow\u001b[0m\u001b[0;34m,\u001b[0m \u001b[0;36m1\u001b[0m\u001b[0;34m:\u001b[0m\u001b[0;34m]\u001b[0m\u001b[0;34m,\u001b[0m\u001b[0mindex\u001b[0m\u001b[0;34m=\u001b[0m\u001b[0mdate_index\u001b[0m\u001b[0;34m)\u001b[0m\u001b[0;34m\u001b[0m\u001b[0;34m\u001b[0m\u001b[0m\n\u001b[1;32m      5\u001b[0m \u001b[0mshift\u001b[0m \u001b[0;34m=\u001b[0m \u001b[0moriginal_series\u001b[0m\u001b[0;34m.\u001b[0m\u001b[0mshift\u001b[0m\u001b[0;34m(\u001b[0m\u001b[0;36m1\u001b[0m\u001b[0;34m)\u001b[0m\u001b[0;34m[\u001b[0m\u001b[0;36m1\u001b[0m\u001b[0;34m:\u001b[0m\u001b[0;34m]\u001b[0m\u001b[0;34m\u001b[0m\u001b[0;34m\u001b[0m\u001b[0m\n",
      "\u001b[0;32m/srv/conda/envs/data100/lib/python3.7/site-packages/pandas/core/indexing.py\u001b[0m in \u001b[0;36m__getitem__\u001b[0;34m(self, key)\u001b[0m\n\u001b[1;32m   1416\u001b[0m                 \u001b[0;32mexcept\u001b[0m \u001b[0;34m(\u001b[0m\u001b[0mKeyError\u001b[0m\u001b[0;34m,\u001b[0m \u001b[0mIndexError\u001b[0m\u001b[0;34m,\u001b[0m \u001b[0mAttributeError\u001b[0m\u001b[0;34m)\u001b[0m\u001b[0;34m:\u001b[0m\u001b[0;34m\u001b[0m\u001b[0;34m\u001b[0m\u001b[0m\n\u001b[1;32m   1417\u001b[0m                     \u001b[0;32mpass\u001b[0m\u001b[0;34m\u001b[0m\u001b[0;34m\u001b[0m\u001b[0m\n\u001b[0;32m-> 1418\u001b[0;31m             \u001b[0;32mreturn\u001b[0m \u001b[0mself\u001b[0m\u001b[0;34m.\u001b[0m\u001b[0m_getitem_tuple\u001b[0m\u001b[0;34m(\u001b[0m\u001b[0mkey\u001b[0m\u001b[0;34m)\u001b[0m\u001b[0;34m\u001b[0m\u001b[0;34m\u001b[0m\u001b[0m\n\u001b[0m\u001b[1;32m   1419\u001b[0m         \u001b[0;32melse\u001b[0m\u001b[0;34m:\u001b[0m\u001b[0;34m\u001b[0m\u001b[0;34m\u001b[0m\u001b[0m\n\u001b[1;32m   1420\u001b[0m             \u001b[0;31m# we by definition only have the 0th axis\u001b[0m\u001b[0;34m\u001b[0m\u001b[0;34m\u001b[0m\u001b[0;34m\u001b[0m\u001b[0m\n",
      "\u001b[0;32m/srv/conda/envs/data100/lib/python3.7/site-packages/pandas/core/indexing.py\u001b[0m in \u001b[0;36m_getitem_tuple\u001b[0;34m(self, tup)\u001b[0m\n\u001b[1;32m   2090\u001b[0m     \u001b[0;32mdef\u001b[0m \u001b[0m_getitem_tuple\u001b[0m\u001b[0;34m(\u001b[0m\u001b[0mself\u001b[0m\u001b[0;34m,\u001b[0m \u001b[0mtup\u001b[0m\u001b[0;34m)\u001b[0m\u001b[0;34m:\u001b[0m\u001b[0;34m\u001b[0m\u001b[0;34m\u001b[0m\u001b[0m\n\u001b[1;32m   2091\u001b[0m \u001b[0;34m\u001b[0m\u001b[0m\n\u001b[0;32m-> 2092\u001b[0;31m         \u001b[0mself\u001b[0m\u001b[0;34m.\u001b[0m\u001b[0m_has_valid_tuple\u001b[0m\u001b[0;34m(\u001b[0m\u001b[0mtup\u001b[0m\u001b[0;34m)\u001b[0m\u001b[0;34m\u001b[0m\u001b[0;34m\u001b[0m\u001b[0m\n\u001b[0m\u001b[1;32m   2093\u001b[0m         \u001b[0;32mtry\u001b[0m\u001b[0;34m:\u001b[0m\u001b[0;34m\u001b[0m\u001b[0;34m\u001b[0m\u001b[0m\n\u001b[1;32m   2094\u001b[0m             \u001b[0;32mreturn\u001b[0m \u001b[0mself\u001b[0m\u001b[0;34m.\u001b[0m\u001b[0m_getitem_lowerdim\u001b[0m\u001b[0;34m(\u001b[0m\u001b[0mtup\u001b[0m\u001b[0;34m)\u001b[0m\u001b[0;34m\u001b[0m\u001b[0;34m\u001b[0m\u001b[0m\n",
      "\u001b[0;32m/srv/conda/envs/data100/lib/python3.7/site-packages/pandas/core/indexing.py\u001b[0m in \u001b[0;36m_has_valid_tuple\u001b[0;34m(self, key)\u001b[0m\n\u001b[1;32m    233\u001b[0m                 \u001b[0;32mraise\u001b[0m \u001b[0mIndexingError\u001b[0m\u001b[0;34m(\u001b[0m\u001b[0;34m\"Too many indexers\"\u001b[0m\u001b[0;34m)\u001b[0m\u001b[0;34m\u001b[0m\u001b[0;34m\u001b[0m\u001b[0m\n\u001b[1;32m    234\u001b[0m             \u001b[0;32mtry\u001b[0m\u001b[0;34m:\u001b[0m\u001b[0;34m\u001b[0m\u001b[0;34m\u001b[0m\u001b[0m\n\u001b[0;32m--> 235\u001b[0;31m                 \u001b[0mself\u001b[0m\u001b[0;34m.\u001b[0m\u001b[0m_validate_key\u001b[0m\u001b[0;34m(\u001b[0m\u001b[0mk\u001b[0m\u001b[0;34m,\u001b[0m \u001b[0mi\u001b[0m\u001b[0;34m)\u001b[0m\u001b[0;34m\u001b[0m\u001b[0;34m\u001b[0m\u001b[0m\n\u001b[0m\u001b[1;32m    236\u001b[0m             \u001b[0;32mexcept\u001b[0m \u001b[0mValueError\u001b[0m\u001b[0;34m:\u001b[0m\u001b[0;34m\u001b[0m\u001b[0;34m\u001b[0m\u001b[0m\n\u001b[1;32m    237\u001b[0m                 raise ValueError(\n",
      "\u001b[0;32m/srv/conda/envs/data100/lib/python3.7/site-packages/pandas/core/indexing.py\u001b[0m in \u001b[0;36m_validate_key\u001b[0;34m(self, key, axis)\u001b[0m\n\u001b[1;32m   2012\u001b[0m             \u001b[0;32mreturn\u001b[0m\u001b[0;34m\u001b[0m\u001b[0;34m\u001b[0m\u001b[0m\n\u001b[1;32m   2013\u001b[0m         \u001b[0;32melif\u001b[0m \u001b[0mis_integer\u001b[0m\u001b[0;34m(\u001b[0m\u001b[0mkey\u001b[0m\u001b[0;34m)\u001b[0m\u001b[0;34m:\u001b[0m\u001b[0;34m\u001b[0m\u001b[0;34m\u001b[0m\u001b[0m\n\u001b[0;32m-> 2014\u001b[0;31m             \u001b[0mself\u001b[0m\u001b[0;34m.\u001b[0m\u001b[0m_validate_integer\u001b[0m\u001b[0;34m(\u001b[0m\u001b[0mkey\u001b[0m\u001b[0;34m,\u001b[0m \u001b[0maxis\u001b[0m\u001b[0;34m)\u001b[0m\u001b[0;34m\u001b[0m\u001b[0;34m\u001b[0m\u001b[0m\n\u001b[0m\u001b[1;32m   2015\u001b[0m         \u001b[0;32melif\u001b[0m \u001b[0misinstance\u001b[0m\u001b[0;34m(\u001b[0m\u001b[0mkey\u001b[0m\u001b[0;34m,\u001b[0m \u001b[0mtuple\u001b[0m\u001b[0;34m)\u001b[0m\u001b[0;34m:\u001b[0m\u001b[0;34m\u001b[0m\u001b[0;34m\u001b[0m\u001b[0m\n\u001b[1;32m   2016\u001b[0m             \u001b[0;31m# a tuple should already have been caught by this point\u001b[0m\u001b[0;34m\u001b[0m\u001b[0;34m\u001b[0m\u001b[0;34m\u001b[0m\u001b[0m\n",
      "\u001b[0;32m/srv/conda/envs/data100/lib/python3.7/site-packages/pandas/core/indexing.py\u001b[0m in \u001b[0;36m_validate_integer\u001b[0;34m(self, key, axis)\u001b[0m\n\u001b[1;32m   2086\u001b[0m         \u001b[0mlen_axis\u001b[0m \u001b[0;34m=\u001b[0m \u001b[0mlen\u001b[0m\u001b[0;34m(\u001b[0m\u001b[0mself\u001b[0m\u001b[0;34m.\u001b[0m\u001b[0mobj\u001b[0m\u001b[0;34m.\u001b[0m\u001b[0m_get_axis\u001b[0m\u001b[0;34m(\u001b[0m\u001b[0maxis\u001b[0m\u001b[0;34m)\u001b[0m\u001b[0;34m)\u001b[0m\u001b[0;34m\u001b[0m\u001b[0;34m\u001b[0m\u001b[0m\n\u001b[1;32m   2087\u001b[0m         \u001b[0;32mif\u001b[0m \u001b[0mkey\u001b[0m \u001b[0;34m>=\u001b[0m \u001b[0mlen_axis\u001b[0m \u001b[0;32mor\u001b[0m \u001b[0mkey\u001b[0m \u001b[0;34m<\u001b[0m \u001b[0;34m-\u001b[0m\u001b[0mlen_axis\u001b[0m\u001b[0;34m:\u001b[0m\u001b[0;34m\u001b[0m\u001b[0;34m\u001b[0m\u001b[0m\n\u001b[0;32m-> 2088\u001b[0;31m             \u001b[0;32mraise\u001b[0m \u001b[0mIndexError\u001b[0m\u001b[0;34m(\u001b[0m\u001b[0;34m\"single positional indexer is out-of-bounds\"\u001b[0m\u001b[0;34m)\u001b[0m\u001b[0;34m\u001b[0m\u001b[0;34m\u001b[0m\u001b[0m\n\u001b[0m\u001b[1;32m   2089\u001b[0m \u001b[0;34m\u001b[0m\u001b[0m\n\u001b[1;32m   2090\u001b[0m     \u001b[0;32mdef\u001b[0m \u001b[0m_getitem_tuple\u001b[0m\u001b[0;34m(\u001b[0m\u001b[0mself\u001b[0m\u001b[0;34m,\u001b[0m \u001b[0mtup\u001b[0m\u001b[0;34m)\u001b[0m\u001b[0;34m:\u001b[0m\u001b[0;34m\u001b[0m\u001b[0;34m\u001b[0m\u001b[0m\n",
      "\u001b[0;31mIndexError\u001b[0m: single positional indexer is out-of-bounds"
     ]
    }
   ],
   "source": [
    "original_series = df[df['RegionName'] == 'Outer Sunset']\n",
    "num_rows = len(df.iloc[:,1])\n",
    "name = df.iloc[row,0]\n",
    "original_series = pd.DataFrame(df.iloc[row, 1:],index=date_index)\n",
    "shift = original_series.shift(1)[1:]\n",
    "returns = (original_series - shift) / original_series\n",
    "\n",
    "# split data into train and test\n",
    "X = returns.values\n",
    "X_len = X.size\n",
    "train_size = int(X.size * 0.9)\n",
    "train = X[0:train_size]\n",
    "test = X[train_size:]\n",
    "\n",
    "# # a ARIMA model on the returns data\n",
    "# model_arima_0s = ARIMA(train,order=(1,1,1))\n",
    "# model_arima_0s_fit = model_arima.fit()\n",
    "# score = model_arima_0s_fit.aic\n",
    "returns"
   ]
  },
  {
   "cell_type": "code",
   "execution_count": 156,
   "metadata": {},
   "outputs": [
    {
     "ename": "ValueError",
     "evalue": "The computed initial MA coefficients are not invertible\nYou should induce invertibility, choose a different model order, or you can\npass your own start_params.",
     "output_type": "error",
     "traceback": [
      "\u001b[0;31m---------------------------------------------------------------------------\u001b[0m",
      "\u001b[0;31mValueError\u001b[0m                                Traceback (most recent call last)",
      "\u001b[0;32m<ipython-input-156-64802bc576b1>\u001b[0m in \u001b[0;36m<module>\u001b[0;34m\u001b[0m\n\u001b[1;32m     31\u001b[0m     \u001b[0;32mfor\u001b[0m \u001b[0mparam\u001b[0m \u001b[0;32min\u001b[0m \u001b[0mpdq\u001b[0m\u001b[0;34m:\u001b[0m\u001b[0;34m\u001b[0m\u001b[0;34m\u001b[0m\u001b[0m\n\u001b[1;32m     32\u001b[0m         \u001b[0mmodel_arima\u001b[0m \u001b[0;34m=\u001b[0m \u001b[0mARIMA\u001b[0m\u001b[0;34m(\u001b[0m\u001b[0mtrain\u001b[0m\u001b[0;34m,\u001b[0m\u001b[0morder\u001b[0m\u001b[0;34m=\u001b[0m\u001b[0mparam\u001b[0m\u001b[0;34m)\u001b[0m\u001b[0;34m\u001b[0m\u001b[0;34m\u001b[0m\u001b[0m\n\u001b[0;32m---> 33\u001b[0;31m         \u001b[0mmodel_arima_fit\u001b[0m \u001b[0;34m=\u001b[0m \u001b[0mmodel_arima\u001b[0m\u001b[0;34m.\u001b[0m\u001b[0mfit\u001b[0m\u001b[0;34m(\u001b[0m\u001b[0;34m)\u001b[0m\u001b[0;34m\u001b[0m\u001b[0;34m\u001b[0m\u001b[0m\n\u001b[0m\u001b[1;32m     34\u001b[0m         \u001b[0mnew_score\u001b[0m \u001b[0;34m=\u001b[0m \u001b[0mmodel_arima_fit\u001b[0m\u001b[0;34m.\u001b[0m\u001b[0maic\u001b[0m\u001b[0;34m\u001b[0m\u001b[0;34m\u001b[0m\u001b[0m\n\u001b[1;32m     35\u001b[0m         \u001b[0;32mif\u001b[0m \u001b[0mnew_score\u001b[0m \u001b[0;34m<\u001b[0m \u001b[0mscore\u001b[0m\u001b[0;34m:\u001b[0m\u001b[0;34m\u001b[0m\u001b[0;34m\u001b[0m\u001b[0m\n",
      "\u001b[0;32m/srv/conda/envs/data100/lib/python3.7/site-packages/statsmodels/tsa/arima_model.py\u001b[0m in \u001b[0;36mfit\u001b[0;34m(self, start_params, trend, method, transparams, solver, maxiter, full_output, disp, callback, start_ar_lags, **kwargs)\u001b[0m\n\u001b[1;32m   1198\u001b[0m                                         \u001b[0mmethod\u001b[0m\u001b[0;34m,\u001b[0m \u001b[0mtransparams\u001b[0m\u001b[0;34m,\u001b[0m \u001b[0msolver\u001b[0m\u001b[0;34m,\u001b[0m\u001b[0;34m\u001b[0m\u001b[0;34m\u001b[0m\u001b[0m\n\u001b[1;32m   1199\u001b[0m                                         \u001b[0mmaxiter\u001b[0m\u001b[0;34m,\u001b[0m \u001b[0mfull_output\u001b[0m\u001b[0;34m,\u001b[0m \u001b[0mdisp\u001b[0m\u001b[0;34m,\u001b[0m\u001b[0;34m\u001b[0m\u001b[0;34m\u001b[0m\u001b[0m\n\u001b[0;32m-> 1200\u001b[0;31m                                         callback, start_ar_lags, **kwargs)\n\u001b[0m\u001b[1;32m   1201\u001b[0m         \u001b[0mnormalized_cov_params\u001b[0m \u001b[0;34m=\u001b[0m \u001b[0;32mNone\u001b[0m  \u001b[0;31m# TODO: fix this?\u001b[0m\u001b[0;34m\u001b[0m\u001b[0;34m\u001b[0m\u001b[0m\n\u001b[1;32m   1202\u001b[0m         arima_fit = ARIMAResults(self, mlefit._results.params,\n",
      "\u001b[0;32m/srv/conda/envs/data100/lib/python3.7/site-packages/statsmodels/tsa/arima_model.py\u001b[0m in \u001b[0;36mfit\u001b[0;34m(self, start_params, trend, method, transparams, solver, maxiter, full_output, disp, callback, start_ar_lags, **kwargs)\u001b[0m\n\u001b[1;32m    984\u001b[0m         \u001b[0;32melse\u001b[0m\u001b[0;34m:\u001b[0m  \u001b[0;31m# estimate starting parameters\u001b[0m\u001b[0;34m\u001b[0m\u001b[0;34m\u001b[0m\u001b[0m\n\u001b[1;32m    985\u001b[0m             start_params = self._fit_start_params((k_ar, k_ma, k), method,\n\u001b[0;32m--> 986\u001b[0;31m                                                   start_ar_lags)\n\u001b[0m\u001b[1;32m    987\u001b[0m \u001b[0;34m\u001b[0m\u001b[0m\n\u001b[1;32m    988\u001b[0m         \u001b[0;32mif\u001b[0m \u001b[0mtransparams\u001b[0m\u001b[0;34m:\u001b[0m  \u001b[0;31m# transform initial parameters to ensure invertibility\u001b[0m\u001b[0;34m\u001b[0m\u001b[0;34m\u001b[0m\u001b[0m\n",
      "\u001b[0;32m/srv/conda/envs/data100/lib/python3.7/site-packages/statsmodels/tsa/arima_model.py\u001b[0m in \u001b[0;36m_fit_start_params\u001b[0;34m(self, order, method, start_ar_lags)\u001b[0m\n\u001b[1;32m    575\u001b[0m                 \u001b[0;32mreturn\u001b[0m \u001b[0;34m-\u001b[0m\u001b[0mself\u001b[0m\u001b[0;34m.\u001b[0m\u001b[0mloglike_css\u001b[0m\u001b[0;34m(\u001b[0m\u001b[0mparams\u001b[0m\u001b[0;34m)\u001b[0m\u001b[0;34m\u001b[0m\u001b[0;34m\u001b[0m\u001b[0m\n\u001b[1;32m    576\u001b[0m \u001b[0;34m\u001b[0m\u001b[0m\n\u001b[0;32m--> 577\u001b[0;31m             \u001b[0mstart_params\u001b[0m \u001b[0;34m=\u001b[0m \u001b[0mself\u001b[0m\u001b[0;34m.\u001b[0m\u001b[0m_fit_start_params_hr\u001b[0m\u001b[0;34m(\u001b[0m\u001b[0morder\u001b[0m\u001b[0;34m,\u001b[0m \u001b[0mstart_ar_lags\u001b[0m\u001b[0;34m)\u001b[0m\u001b[0;34m\u001b[0m\u001b[0;34m\u001b[0m\u001b[0m\n\u001b[0m\u001b[1;32m    578\u001b[0m             \u001b[0;32mif\u001b[0m \u001b[0mself\u001b[0m\u001b[0;34m.\u001b[0m\u001b[0mtransparams\u001b[0m\u001b[0;34m:\u001b[0m\u001b[0;34m\u001b[0m\u001b[0;34m\u001b[0m\u001b[0m\n\u001b[1;32m    579\u001b[0m                 \u001b[0mstart_params\u001b[0m \u001b[0;34m=\u001b[0m \u001b[0mself\u001b[0m\u001b[0;34m.\u001b[0m\u001b[0m_invtransparams\u001b[0m\u001b[0;34m(\u001b[0m\u001b[0mstart_params\u001b[0m\u001b[0;34m)\u001b[0m\u001b[0;34m\u001b[0m\u001b[0;34m\u001b[0m\u001b[0m\n",
      "\u001b[0;32m/srv/conda/envs/data100/lib/python3.7/site-packages/statsmodels/tsa/arima_model.py\u001b[0m in \u001b[0;36m_fit_start_params_hr\u001b[0;34m(self, order, start_ar_lags)\u001b[0m\n\u001b[1;32m    560\u001b[0m         elif q and not np.all(np.abs(np.roots(np.r_[1, start_params[k + p:]]\n\u001b[1;32m    561\u001b[0m                                               )) < 1):\n\u001b[0;32m--> 562\u001b[0;31m             raise ValueError(\"The computed initial MA coefficients are not \"\n\u001b[0m\u001b[1;32m    563\u001b[0m                              \u001b[0;34m\"invertible\\nYou should induce invertibility, \"\u001b[0m\u001b[0;34m\u001b[0m\u001b[0;34m\u001b[0m\u001b[0m\n\u001b[1;32m    564\u001b[0m                              \u001b[0;34m\"choose a different model order, or you can\\n\"\u001b[0m\u001b[0;34m\u001b[0m\u001b[0;34m\u001b[0m\u001b[0m\n",
      "\u001b[0;31mValueError\u001b[0m: The computed initial MA coefficients are not invertible\nYou should induce invertibility, choose a different model order, or you can\npass your own start_params."
     ]
    }
   ],
   "source": [
    "# import sys\n",
    "# from impyute.imputation.cs import fast_knn\n",
    "# sys.setrecursionlimit(100000) #Increase the recursion limit of the OS\n",
    "\n",
    "# # start the KNN training\n",
    "# imputed_training=fast_knn(train.values, k=30)\n",
    "\n",
    "model_list = {}\n",
    "num_rows = len(df.iloc[:,1])\n",
    "for row in range(num_rows):\n",
    "    # construct returns series from the orginal home index values' series\n",
    "    name = df.iloc[row,0]\n",
    "    original_series = pd.DataFrame(df.iloc[row, 1:],index=date_index)\n",
    "    shift = original_series.shift(1)[1:]\n",
    "    original_series = original_series[1:]\n",
    "    returns = (original_series - shift) / original_series\n",
    "\n",
    "    \n",
    "    # split data into train and test\n",
    "    X = returns.values\n",
    "    X_len = X.size\n",
    "    train_size = int(X.size * 0.9)\n",
    "    train = X[0:train_size]\n",
    "    test = X[train_size:]\n",
    "    \n",
    "    # fit a ARIMA model on the returns data\n",
    "    model_arima_0s = ARIMA(train,order=(1,1,1))\n",
    "    model_arima_0s_fit = model_arima.fit()\n",
    "    score = model_arima_0s_fit.aic\n",
    "    bestscore = [(0,0,0), score]\n",
    "    for param in pdq:\n",
    "        model_arima = ARIMA(train,order=param)\n",
    "        model_arima_fit = model_arima.fit()\n",
    "        new_score = model_arima_fit.aic\n",
    "        if new_score < score:\n",
    "            score = new_score\n",
    "            bestscore = [param, score]\n",
    "    model_list[name] = bestscore\n",
    "    print(name, bestscore)\n",
    "\n",
    "    \n",
    "        \n",
    "        \n",
    "    \n",
    "    \n",
    "\n"
   ]
  },
  {
   "cell_type": "code",
   "execution_count": null,
   "metadata": {},
   "outputs": [],
   "source": []
  }
 ],
 "metadata": {
  "kernelspec": {
   "display_name": "Python 3",
   "language": "python",
   "name": "python3"
  },
  "language_info": {
   "codemirror_mode": {
    "name": "ipython",
    "version": 3
   },
   "file_extension": ".py",
   "mimetype": "text/x-python",
   "name": "python",
   "nbconvert_exporter": "python",
   "pygments_lexer": "ipython3",
   "version": "3.7.6"
  }
 },
 "nbformat": 4,
 "nbformat_minor": 4
}
