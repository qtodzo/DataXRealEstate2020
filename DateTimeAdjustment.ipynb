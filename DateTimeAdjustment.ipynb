{
 "cells": [
  {
   "cell_type": "code",
   "execution_count": 2,
   "metadata": {},
   "outputs": [
    {
     "name": "stdout",
     "output_type": "stream",
     "text": [
      "2020-10-06\n",
      "2020.7640994990893\n",
      "2025-04-13 00:00:00\n"
     ]
    }
   ],
   "source": [
    "sampledate='2020-10-06 15:51'\n",
    "def decimalyear(stringdate):\n",
    "    import datetime as dt\n",
    "    from PyAstronomy import pyasl\n",
    "    year=int(stringdate[0:4])\n",
    "    month=int(stringdate[5:7])\n",
    "    day=int(stringdate[8:10])\n",
    "    hour=int(stringdate[11:13])\n",
    "    minute=int(stringdate[14:])\n",
    "    d=dt.datetime(year,month,day,hour,minute)\n",
    "    dyear=pyasl.decimalYear(d)  \n",
    "    return dyear\n",
    "sampledec=decimalyear(sampledate)\n",
    "\n",
    "def datefromdec(dyear):\n",
    "    from PyAstronomy import pyasl\n",
    "    return pyasl.decimalYearGregorianDate(dyear,\"yyyy-mm-dd hh:mm\")\n",
    "\n",
    "def fiveyears():\n",
    "    import datetime as dt\n",
    "    td=dt.date.today()\n",
    "    tdtuple=td.timetuple()\n",
    "    yr=tdtuple[0]+5\n",
    "    fytuple=(yr,tdtuple[1],tdtuple[2])\n",
    "    fy=td.replace(*fytuple)\n",
    "    fiveyear=dt.datetime(fy.year,fy.month,fy.day)\n",
    "    return fiveyear\n",
    "print(datefromdec(sampledec))\n",
    "print(sampledec)\n",
    "print(fiveyears())"
   ]
  },
  {
   "cell_type": "code",
   "execution_count": 32,
   "metadata": {},
   "outputs": [
    {
     "ename": "AttributeError",
     "evalue": "'str' object has no attribute 'type'",
     "output_type": "error",
     "traceback": [
      "\u001b[1;31m---------------------------------------------------------------------------\u001b[0m",
      "\u001b[1;31mAttributeError\u001b[0m                            Traceback (most recent call last)",
      "\u001b[1;32m<ipython-input-32-baa0a70d91b2>\u001b[0m in \u001b[0;36m<module>\u001b[1;34m\u001b[0m\n\u001b[0;32m      6\u001b[0m \u001b[0mfy\u001b[0m\u001b[1;33m=\u001b[0m\u001b[0mtd\u001b[0m\u001b[1;33m.\u001b[0m\u001b[0mreplace\u001b[0m\u001b[1;33m(\u001b[0m\u001b[1;33m*\u001b[0m\u001b[0mfytuple\u001b[0m\u001b[1;33m)\u001b[0m\u001b[1;33m\u001b[0m\u001b[1;33m\u001b[0m\u001b[0m\n\u001b[0;32m      7\u001b[0m \u001b[0mfy\u001b[0m\u001b[1;33m=\u001b[0m\u001b[0mfy\u001b[0m\u001b[1;33m.\u001b[0m\u001b[0mstrftime\u001b[0m\u001b[1;33m(\u001b[0m\u001b[1;34m\"%m/%d/%y\"\u001b[0m\u001b[1;33m)\u001b[0m\u001b[1;33m\u001b[0m\u001b[1;33m\u001b[0m\u001b[0m\n\u001b[1;32m----> 8\u001b[1;33m \u001b[0mfy\u001b[0m\u001b[1;33m.\u001b[0m\u001b[0mtype\u001b[0m\u001b[1;33m\u001b[0m\u001b[1;33m\u001b[0m\u001b[0m\n\u001b[0m",
      "\u001b[1;31mAttributeError\u001b[0m: 'str' object has no attribute 'type'"
     ]
    }
   ],
   "source": [
    "\n",
    "fy=fy.strftime(\"%m/%d/%y\")\n"
   ]
  }
 ],
 "metadata": {
  "kernelspec": {
   "display_name": "Python 3",
   "language": "python",
   "name": "python3"
  },
  "language_info": {
   "codemirror_mode": {
    "name": "ipython",
    "version": 3
   },
   "file_extension": ".py",
   "mimetype": "text/x-python",
   "name": "python",
   "nbconvert_exporter": "python",
   "pygments_lexer": "ipython3",
   "version": "3.7.4"
  }
 },
 "nbformat": 4,
 "nbformat_minor": 2
}
